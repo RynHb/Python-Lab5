{
 "cells": [
  {
   "cell_type": "code",
   "execution_count": 1,
   "id": "6c13bf51",
   "metadata": {},
   "outputs": [],
   "source": [
    "lst = [5, 4, 17, 19, 30, 2, 7, 10, 45]"
   ]
  },
  {
   "cell_type": "markdown",
   "id": "6fb83d56",
   "metadata": {},
   "source": [
    "### Write a Python program to sum all the items in the list."
   ]
  },
  {
   "cell_type": "code",
   "execution_count": 2,
   "id": "a480599a",
   "metadata": {
    "scrolled": true
   },
   "outputs": [
    {
     "name": "stdout",
     "output_type": "stream",
     "text": [
      "139\n"
     ]
    }
   ],
   "source": [
    "Summ = 0\n",
    "\n",
    "for i in lst:\n",
    "    Summ += i\n",
    "\n",
    "print(Summ)"
   ]
  },
  {
   "cell_type": "markdown",
   "id": "0124f04f",
   "metadata": {},
   "source": [
    "### Write a Python program to get the largest number from the list."
   ]
  },
  {
   "cell_type": "markdown",
   "id": "fd8f858a",
   "metadata": {},
   "source": [
    "**Method 1**"
   ]
  },
  {
   "cell_type": "code",
   "execution_count": 3,
   "id": "5f3d61eb",
   "metadata": {
    "scrolled": true
   },
   "outputs": [
    {
     "name": "stdout",
     "output_type": "stream",
     "text": [
      "45\n"
     ]
    }
   ],
   "source": [
    "num = 0\n",
    "\n",
    "for i in lst:\n",
    "    if i > num:\n",
    "        lrg_num = i\n",
    "    else:\n",
    "        continue\n",
    "\n",
    "print(lrg_num)"
   ]
  },
  {
   "cell_type": "markdown",
   "id": "efe8e827",
   "metadata": {},
   "source": [
    "**Method 2**"
   ]
  },
  {
   "cell_type": "code",
   "execution_count": 4,
   "id": "a0d2ce2d",
   "metadata": {
    "scrolled": true
   },
   "outputs": [
    {
     "name": "stdout",
     "output_type": "stream",
     "text": [
      "[2, 4, 5, 7, 10, 17, 19, 30, 45]\n",
      "45\n"
     ]
    }
   ],
   "source": [
    "lst.sort(reverse=False)\n",
    "print(lst)\n",
    "lrg_num = lst[-1]\n",
    "print(lrg_num)"
   ]
  },
  {
   "cell_type": "markdown",
   "id": "79d5ba54",
   "metadata": {},
   "source": [
    "### Use list comprehension, create a new list from the above list containing only even numbers."
   ]
  },
  {
   "cell_type": "code",
   "execution_count": 5,
   "id": "89dc4d23",
   "metadata": {
    "scrolled": true
   },
   "outputs": [
    {
     "name": "stdout",
     "output_type": "stream",
     "text": [
      "[4, 30, 2, 10]\n"
     ]
    }
   ],
   "source": [
    "lst = [5, 4, 17, 19, 30, 2, 7, 10, 45]\n",
    "newlst = [i for i in lst if i % 2 == 0]\n",
    "print(newlst)"
   ]
  },
  {
   "cell_type": "markdown",
   "id": "db2e6730",
   "metadata": {},
   "source": [
    "### Use list slicing to get a new list from the previous list starting from the start to the 5th element in the list."
   ]
  },
  {
   "cell_type": "code",
   "execution_count": 6,
   "id": "d823d3d8",
   "metadata": {},
   "outputs": [
    {
     "name": "stdout",
     "output_type": "stream",
     "text": [
      "[5, 4, 17, 19, 30]\n"
     ]
    }
   ],
   "source": [
    "newlst2 = lst[:5]\n",
    "print(newlst2)"
   ]
  }
 ],
 "metadata": {
  "kernelspec": {
   "display_name": "Python 3 (ipykernel)",
   "language": "python",
   "name": "python3"
  },
  "language_info": {
   "codemirror_mode": {
    "name": "ipython",
    "version": 3
   },
   "file_extension": ".py",
   "mimetype": "text/x-python",
   "name": "python",
   "nbconvert_exporter": "python",
   "pygments_lexer": "ipython3",
   "version": "3.11.3"
  }
 },
 "nbformat": 4,
 "nbformat_minor": 5
}
